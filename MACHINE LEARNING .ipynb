{
 "cells": [
  {
   "cell_type": "code",
   "execution_count": null,
   "metadata": {
    "execution": {
     "iopub.execute_input": "2021-10-04T05:38:15.306174Z",
     "iopub.status.busy": "2021-10-04T05:38:15.305845Z",
     "iopub.status.idle": "2021-10-04T05:38:18.276450Z",
     "shell.execute_reply": "2021-10-04T05:38:18.275073Z",
     "shell.execute_reply.started": "2021-10-04T05:38:15.306096Z"
    }
   },
   "outputs": [],
   "source": [
    "import pandas as pd\n",
    "import numpy as np\n",
    "import seaborn as sns\n",
    "import matplotlib.pyplot as plt\n",
    "from pandas_profiling import ProfileReport\n",
    "\n",
    "from sklearn.linear_model import LogisticRegression\n",
    "from sklearn.model_selection import train_test_split\n",
    "from sklearn.tree import DecisionTreeClassifier\n",
    "from sklearn.ensemble import RandomForestClassifier\n",
    "from sklearn.metrics import classification_report\n",
    "from sklearn.preprocessing import StandardScaler, RobustScaler\n",
    "import pandas_profiling as pp\n",
    "from sklearn.model_selection import cross_val_score, cross_val_predict\n",
    "from sklearn.metrics import mean_squared_error,classification_report\n",
    "from sklearn.ensemble import GradientBoostingClassifier\n",
    "from sklearn.neighbors import KNeighborsClassifier\n",
    "from sklearn.naive_bayes import GaussianNB\n",
    "from sklearn.decomposition import PCA\n",
    "import warnings\n",
    "warnings.filterwarnings('ignore')\n",
    "\n",
    "%matplotlib inline"
   ]
  },
  {
   "cell_type": "code",
   "execution_count": null,
   "metadata": {
    "execution": {
     "iopub.execute_input": "2021-10-04T05:38:20.640128Z",
     "iopub.status.busy": "2021-10-04T05:38:20.639288Z",
     "iopub.status.idle": "2021-10-04T05:38:20.682179Z",
     "shell.execute_reply": "2021-10-04T05:38:20.681180Z",
     "shell.execute_reply.started": "2021-10-04T05:38:20.640084Z"
    }
   },
   "outputs": [],
   "source": [
    "df = pd.read_csv('heart.csv')\n",
    "df.head()"
   ]
  },
  {
   "cell_type": "code",
   "execution_count": null,
   "metadata": {},
   "outputs": [],
   "source": [
    "df[[\"age\",\"trestbps\",\"chol\",\"thalach\",\"oldpeak\"]]"
   ]
  },
  {
   "cell_type": "code",
   "execution_count": null,
   "metadata": {},
   "outputs": [],
   "source": [
    "df.columns"
   ]
  },
  {
   "cell_type": "code",
   "execution_count": null,
   "metadata": {},
   "outputs": [],
   "source": [
    "df[[\"age\",\"trestbps\",\"chol\",\"thalach\",\"oldpeak\"]].describe()"
   ]
  },
  {
   "cell_type": "code",
   "execution_count": null,
   "metadata": {},
   "outputs": [],
   "source": [
    "df.describe()"
   ]
  },
  {
   "cell_type": "code",
   "execution_count": null,
   "metadata": {
    "execution": {
     "iopub.execute_input": "2021-10-04T05:38:28.540927Z",
     "iopub.status.busy": "2021-10-04T05:38:28.540108Z",
     "iopub.status.idle": "2021-10-04T05:38:28.556691Z",
     "shell.execute_reply": "2021-10-04T05:38:28.555859Z",
     "shell.execute_reply.started": "2021-10-04T05:38:28.540886Z"
    }
   },
   "outputs": [],
   "source": [
    "df.tail()"
   ]
  },
  {
   "cell_type": "code",
   "execution_count": null,
   "metadata": {
    "execution": {
     "iopub.execute_input": "2021-10-04T05:39:19.407737Z",
     "iopub.status.busy": "2021-10-04T05:39:19.407441Z",
     "iopub.status.idle": "2021-10-04T05:39:19.413259Z",
     "shell.execute_reply": "2021-10-04T05:39:19.412343Z",
     "shell.execute_reply.started": "2021-10-04T05:39:19.407707Z"
    }
   },
   "outputs": [],
   "source": [
    "len(df)"
   ]
  },
  {
   "cell_type": "code",
   "execution_count": null,
   "metadata": {},
   "outputs": [],
   "source": [
    "df[\"sex\"].value_counts()"
   ]
  },
  {
   "cell_type": "code",
   "execution_count": null,
   "metadata": {},
   "outputs": [],
   "source": [
    "df[\"fbs\"].value_counts()"
   ]
  },
  {
   "cell_type": "code",
   "execution_count": null,
   "metadata": {},
   "outputs": [],
   "source": [
    "df[\"restecg\"].value_counts()"
   ]
  },
  {
   "cell_type": "code",
   "execution_count": null,
   "metadata": {},
   "outputs": [],
   "source": [
    "df[\"exang\"].value_counts()"
   ]
  },
  {
   "cell_type": "code",
   "execution_count": null,
   "metadata": {},
   "outputs": [],
   "source": [
    "df[\"ca\"].value_counts()"
   ]
  },
  {
   "cell_type": "code",
   "execution_count": null,
   "metadata": {
    "execution": {
     "iopub.execute_input": "2021-10-04T05:39:56.758032Z",
     "iopub.status.busy": "2021-10-04T05:39:56.757283Z",
     "iopub.status.idle": "2021-10-04T05:39:56.773655Z",
     "shell.execute_reply": "2021-10-04T05:39:56.772471Z",
     "shell.execute_reply.started": "2021-10-04T05:39:56.757979Z"
    }
   },
   "outputs": [],
   "source": [
    "df[\"cp\"].value_counts()"
   ]
  },
  {
   "cell_type": "code",
   "execution_count": null,
   "metadata": {
    "execution": {
     "iopub.execute_input": "2021-10-04T05:39:58.116708Z",
     "iopub.status.busy": "2021-10-04T05:39:58.116420Z",
     "iopub.status.idle": "2021-10-04T05:39:58.125068Z",
     "shell.execute_reply": "2021-10-04T05:39:58.124230Z",
     "shell.execute_reply.started": "2021-10-04T05:39:58.116679Z"
    }
   },
   "outputs": [],
   "source": [
    "df[\"slope\"].value_counts()"
   ]
  },
  {
   "cell_type": "code",
   "execution_count": null,
   "metadata": {
    "execution": {
     "iopub.execute_input": "2021-10-04T05:39:59.090457Z",
     "iopub.status.busy": "2021-10-04T05:39:59.090177Z",
     "iopub.status.idle": "2021-10-04T05:39:59.098787Z",
     "shell.execute_reply": "2021-10-04T05:39:59.097881Z",
     "shell.execute_reply.started": "2021-10-04T05:39:59.090428Z"
    }
   },
   "outputs": [],
   "source": [
    "df[\"thal\"].value_counts()"
   ]
  },
  {
   "cell_type": "code",
   "execution_count": null,
   "metadata": {
    "execution": {
     "iopub.execute_input": "2021-10-04T05:39:59.928885Z",
     "iopub.status.busy": "2021-10-04T05:39:59.928592Z",
     "iopub.status.idle": "2021-10-04T05:39:59.934599Z",
     "shell.execute_reply": "2021-10-04T05:39:59.933692Z",
     "shell.execute_reply.started": "2021-10-04T05:39:59.928857Z"
    }
   },
   "outputs": [],
   "source": [
    "len(list(df.columns))"
   ]
  },
  {
   "cell_type": "code",
   "execution_count": null,
   "metadata": {
    "execution": {
     "iopub.execute_input": "2021-10-04T05:40:00.693382Z",
     "iopub.status.busy": "2021-10-04T05:40:00.693070Z",
     "iopub.status.idle": "2021-10-04T05:40:00.713641Z",
     "shell.execute_reply": "2021-10-04T05:40:00.712407Z",
     "shell.execute_reply.started": "2021-10-04T05:40:00.693353Z"
    }
   },
   "outputs": [],
   "source": [
    "df.info()"
   ]
  },
  {
   "cell_type": "code",
   "execution_count": null,
   "metadata": {
    "execution": {
     "iopub.execute_input": "2021-10-04T05:40:01.746241Z",
     "iopub.status.busy": "2021-10-04T05:40:01.745487Z",
     "iopub.status.idle": "2021-10-04T05:40:01.802766Z",
     "shell.execute_reply": "2021-10-04T05:40:01.802029Z",
     "shell.execute_reply.started": "2021-10-04T05:40:01.746192Z"
    }
   },
   "outputs": [],
   "source": [
    "df.describe()"
   ]
  },
  {
   "cell_type": "markdown",
   "metadata": {},
   "source": [
    "Total unique values in target column"
   ]
  },
  {
   "cell_type": "code",
   "execution_count": null,
   "metadata": {
    "execution": {
     "iopub.execute_input": "2021-10-04T05:40:04.551224Z",
     "iopub.status.busy": "2021-10-04T05:40:04.550564Z",
     "iopub.status.idle": "2021-10-04T05:40:04.561070Z",
     "shell.execute_reply": "2021-10-04T05:40:04.560093Z",
     "shell.execute_reply.started": "2021-10-04T05:40:04.551181Z"
    }
   },
   "outputs": [],
   "source": [
    "df['target'].value_counts()"
   ]
  },
  {
   "cell_type": "code",
   "execution_count": null,
   "metadata": {
    "execution": {
     "iopub.execute_input": "2021-10-04T05:40:05.336001Z",
     "iopub.status.busy": "2021-10-04T05:40:05.335401Z",
     "iopub.status.idle": "2021-10-04T05:40:05.343201Z",
     "shell.execute_reply": "2021-10-04T05:40:05.341997Z",
     "shell.execute_reply.started": "2021-10-04T05:40:05.335953Z"
    }
   },
   "outputs": [],
   "source": [
    "df.shape"
   ]
  },
  {
   "cell_type": "markdown",
   "metadata": {},
   "source": [
    "Let's check null value"
   ]
  },
  {
   "cell_type": "code",
   "execution_count": null,
   "metadata": {
    "execution": {
     "iopub.execute_input": "2021-10-04T05:40:07.078077Z",
     "iopub.status.busy": "2021-10-04T05:40:07.077796Z",
     "iopub.status.idle": "2021-10-04T05:40:07.085505Z",
     "shell.execute_reply": "2021-10-04T05:40:07.084800Z",
     "shell.execute_reply.started": "2021-10-04T05:40:07.078050Z"
    }
   },
   "outputs": [],
   "source": [
    "df.isnull().sum()"
   ]
  },
  {
   "cell_type": "markdown",
   "metadata": {},
   "source": [
    "There are no null values we are good to go"
   ]
  },
  {
   "cell_type": "code",
   "execution_count": null,
   "metadata": {
    "execution": {
     "iopub.execute_input": "2021-10-04T05:40:08.668249Z",
     "iopub.status.busy": "2021-10-04T05:40:08.667964Z",
     "iopub.status.idle": "2021-10-04T05:40:08.970812Z",
     "shell.execute_reply": "2021-10-04T05:40:08.969903Z",
     "shell.execute_reply.started": "2021-10-04T05:40:08.668220Z"
    }
   },
   "outputs": [],
   "source": [
    "plt.figure(figsize = (8, 8))\n",
    "sns.distplot(df['age'], color='blue')\n",
    "plt.title('age distribution', fontsize = 14)\n",
    "plt.show()"
   ]
  },
  {
   "cell_type": "code",
   "execution_count": null,
   "metadata": {
    "execution": {
     "iopub.execute_input": "2021-10-04T05:40:09.729399Z",
     "iopub.status.busy": "2021-10-04T05:40:09.729085Z",
     "iopub.status.idle": "2021-10-04T05:40:09.735666Z",
     "shell.execute_reply": "2021-10-04T05:40:09.734682Z",
     "shell.execute_reply.started": "2021-10-04T05:40:09.729367Z"
    }
   },
   "outputs": [],
   "source": [
    "print(\"Skewness of age : \", df['age'].skew())"
   ]
  },
  {
   "cell_type": "markdown",
   "metadata": {},
   "source": [
    "Age is negative skewd"
   ]
  },
  {
   "cell_type": "code",
   "execution_count": null,
   "metadata": {
    "execution": {
     "iopub.execute_input": "2021-10-04T05:40:11.053926Z",
     "iopub.status.busy": "2021-10-04T05:40:11.051179Z",
     "iopub.status.idle": "2021-10-04T05:40:11.060261Z",
     "shell.execute_reply": "2021-10-04T05:40:11.059667Z",
     "shell.execute_reply.started": "2021-10-04T05:40:11.053881Z"
    }
   },
   "outputs": [],
   "source": [
    "print(\"Maximum age : \", df['age'].max())\n",
    "print(\"Minimum age : \", df['age'].min())\n",
    "print(\"Average age : \", round(df['age'].mean()))"
   ]
  },
  {
   "cell_type": "code",
   "execution_count": null,
   "metadata": {
    "execution": {
     "iopub.execute_input": "2021-10-04T05:40:11.569700Z",
     "iopub.status.busy": "2021-10-04T05:40:11.569275Z",
     "iopub.status.idle": "2021-10-04T05:40:11.576427Z",
     "shell.execute_reply": "2021-10-04T05:40:11.575539Z",
     "shell.execute_reply.started": "2021-10-04T05:40:11.569669Z"
    }
   },
   "outputs": [],
   "source": [
    "df['sex'].value_counts()"
   ]
  },
  {
   "cell_type": "code",
   "execution_count": null,
   "metadata": {
    "execution": {
     "iopub.execute_input": "2021-10-04T05:40:12.064619Z",
     "iopub.status.busy": "2021-10-04T05:40:12.063928Z",
     "iopub.status.idle": "2021-10-04T05:40:12.073626Z",
     "shell.execute_reply": "2021-10-04T05:40:12.072613Z",
     "shell.execute_reply.started": "2021-10-04T05:40:12.064580Z"
    }
   },
   "outputs": [],
   "source": [
    "df.groupby(['sex','target'])['target'].count()"
   ]
  },
  {
   "cell_type": "markdown",
   "metadata": {
    "execution": {
     "iopub.execute_input": "2021-10-04T05:40:12.912417Z",
     "iopub.status.busy": "2021-10-04T05:40:12.912149Z",
     "iopub.status.idle": "2021-10-04T05:40:33.993215Z",
     "shell.execute_reply": "2021-10-04T05:40:33.990346Z",
     "shell.execute_reply.started": "2021-10-04T05:40:12.912390Z"
    }
   },
   "source": [
    "from pandas_profiling import ProfileReport\n",
    "vgames_profile = ProfileReport(df, title='Heart Disease')\n",
    "vgames_profile"
   ]
  },
  {
   "cell_type": "code",
   "execution_count": null,
   "metadata": {
    "execution": {
     "iopub.execute_input": "2021-10-04T05:59:31.033545Z",
     "iopub.status.busy": "2021-10-04T05:59:31.033122Z",
     "iopub.status.idle": "2021-10-04T05:59:31.045735Z",
     "shell.execute_reply": "2021-10-04T05:59:31.044612Z",
     "shell.execute_reply.started": "2021-10-04T05:59:31.033513Z"
    }
   },
   "outputs": [],
   "source": [
    "df['cp'].value_counts()"
   ]
  },
  {
   "cell_type": "code",
   "execution_count": null,
   "metadata": {
    "execution": {
     "iopub.execute_input": "2021-10-04T05:59:31.827884Z",
     "iopub.status.busy": "2021-10-04T05:59:31.827566Z",
     "iopub.status.idle": "2021-10-04T05:59:32.101232Z",
     "shell.execute_reply": "2021-10-04T05:59:32.099997Z",
     "shell.execute_reply.started": "2021-10-04T05:59:31.827853Z"
    }
   },
   "outputs": [],
   "source": [
    "plt.figure(figsize = (8, 6))\n",
    "sns.histplot(df['cp'])\n",
    "plt.title('cp histplot', fontsize = 15)\n",
    "plt.show()"
   ]
  },
  {
   "cell_type": "code",
   "execution_count": null,
   "metadata": {},
   "outputs": [],
   "source": [
    "temp = df.drop(\"target\", axis = 1)\n",
    "plt.figure(figsize = (20,20))\n",
    "sns.heatmap(temp.corr(), annot = True, linewidths = 0.5)"
   ]
  },
  {
   "cell_type": "code",
   "execution_count": null,
   "metadata": {},
   "outputs": [],
   "source": [
    "ctr = 1\n",
    "figure = plt.figure(figsize = (11,64))\n",
    "for i in df.columns:\n",
    "    if (i == \"target\"):\n",
    "        continue\n",
    "    plt.subplot(16,2,ctr)\n",
    "    figure.tight_layout(pad = 5.0)\n",
    "    ctr += 1\n",
    "    sns.barplot(x = \"target\", y = i, data = df)"
   ]
  },
  {
   "cell_type": "code",
   "execution_count": null,
   "metadata": {
    "execution": {
     "iopub.execute_input": "2021-10-04T05:59:45.118311Z",
     "iopub.status.busy": "2021-10-04T05:59:45.118015Z",
     "iopub.status.idle": "2021-10-04T05:59:45.286995Z",
     "shell.execute_reply": "2021-10-04T05:59:45.286167Z",
     "shell.execute_reply.started": "2021-10-04T05:59:45.118278Z"
    }
   },
   "outputs": [],
   "source": [
    "plt.figure(figsize=(8, 5))\n",
    "sns.countplot(df['fbs'])\n",
    "plt.title('fbs',fontsize=14)\n",
    "plt.show()"
   ]
  },
  {
   "cell_type": "code",
   "execution_count": null,
   "metadata": {
    "execution": {
     "iopub.execute_input": "2021-10-04T05:59:45.964511Z",
     "iopub.status.busy": "2021-10-04T05:59:45.964077Z",
     "iopub.status.idle": "2021-10-04T05:59:46.155736Z",
     "shell.execute_reply": "2021-10-04T05:59:46.154864Z",
     "shell.execute_reply.started": "2021-10-04T05:59:45.964465Z"
    }
   },
   "outputs": [],
   "source": [
    "plt.figure(figsize=(8, 5))\n",
    "sns.countplot(df['restecg'])\n",
    "plt.title('restecg',fontsize=14)\n",
    "plt.show()"
   ]
  },
  {
   "cell_type": "code",
   "execution_count": null,
   "metadata": {
    "execution": {
     "iopub.execute_input": "2021-10-04T05:59:47.733282Z",
     "iopub.status.busy": "2021-10-04T05:59:47.732810Z",
     "iopub.status.idle": "2021-10-04T05:59:47.916228Z",
     "shell.execute_reply": "2021-10-04T05:59:47.915362Z",
     "shell.execute_reply.started": "2021-10-04T05:59:47.733248Z"
    }
   },
   "outputs": [],
   "source": [
    "plt.figure(figsize=(8, 5))\n",
    "sns.countplot(df['exang'])\n",
    "plt.title('exang',fontsize=14)\n",
    "plt.show()"
   ]
  },
  {
   "cell_type": "code",
   "execution_count": null,
   "metadata": {
    "execution": {
     "iopub.execute_input": "2021-10-04T05:59:49.612630Z",
     "iopub.status.busy": "2021-10-04T05:59:49.612330Z",
     "iopub.status.idle": "2021-10-04T05:59:49.798557Z",
     "shell.execute_reply": "2021-10-04T05:59:49.797653Z",
     "shell.execute_reply.started": "2021-10-04T05:59:49.612600Z"
    }
   },
   "outputs": [],
   "source": [
    "plt.figure(figsize=(8, 5))\n",
    "sns.countplot(df['slope'])\n",
    "plt.title('slope',fontsize=14)\n",
    "plt.show()"
   ]
  },
  {
   "cell_type": "code",
   "execution_count": null,
   "metadata": {
    "execution": {
     "iopub.execute_input": "2021-10-04T05:59:50.492422Z",
     "iopub.status.busy": "2021-10-04T05:59:50.492130Z",
     "iopub.status.idle": "2021-10-04T05:59:50.697410Z",
     "shell.execute_reply": "2021-10-04T05:59:50.696599Z",
     "shell.execute_reply.started": "2021-10-04T05:59:50.492393Z"
    }
   },
   "outputs": [],
   "source": [
    "plt.figure(figsize=(8, 5))\n",
    "sns.countplot(df['ca'])\n",
    "plt.title('ca',fontsize=14)\n",
    "plt.show()"
   ]
  },
  {
   "cell_type": "code",
   "execution_count": null,
   "metadata": {
    "execution": {
     "iopub.execute_input": "2021-10-04T05:59:51.966539Z",
     "iopub.status.busy": "2021-10-04T05:59:51.966201Z",
     "iopub.status.idle": "2021-10-04T05:59:52.167448Z",
     "shell.execute_reply": "2021-10-04T05:59:52.166488Z",
     "shell.execute_reply.started": "2021-10-04T05:59:51.966491Z"
    }
   },
   "outputs": [],
   "source": [
    "plt.figure(figsize=(8, 5))\n",
    "sns.countplot(df['thal'])\n",
    "plt.title('thal',fontsize=14)\n",
    "plt.show()"
   ]
  },
  {
   "cell_type": "code",
   "execution_count": null,
   "metadata": {
    "execution": {
     "iopub.execute_input": "2021-10-04T05:59:53.686764Z",
     "iopub.status.busy": "2021-10-04T05:59:53.686471Z",
     "iopub.status.idle": "2021-10-04T05:59:53.697209Z",
     "shell.execute_reply": "2021-10-04T05:59:53.696338Z",
     "shell.execute_reply.started": "2021-10-04T05:59:53.686737Z"
    }
   },
   "outputs": [],
   "source": [
    "df['age'].describe()"
   ]
  },
  {
   "cell_type": "code",
   "execution_count": null,
   "metadata": {
    "execution": {
     "iopub.execute_input": "2021-10-04T05:59:54.549126Z",
     "iopub.status.busy": "2021-10-04T05:59:54.548806Z",
     "iopub.status.idle": "2021-10-04T05:59:54.558887Z",
     "shell.execute_reply": "2021-10-04T05:59:54.557916Z",
     "shell.execute_reply.started": "2021-10-04T05:59:54.549085Z"
    }
   },
   "outputs": [],
   "source": [
    "df['age'].value_counts()"
   ]
  },
  {
   "cell_type": "markdown",
   "metadata": {},
   "source": [
    "Convert some columns to normal distribution"
   ]
  },
  {
   "cell_type": "code",
   "execution_count": null,
   "metadata": {
    "execution": {
     "iopub.execute_input": "2021-10-04T05:59:56.258924Z",
     "iopub.status.busy": "2021-10-04T05:59:56.258637Z",
     "iopub.status.idle": "2021-10-04T05:59:56.275315Z",
     "shell.execute_reply": "2021-10-04T05:59:56.274305Z",
     "shell.execute_reply.started": "2021-10-04T05:59:56.258895Z"
    }
   },
   "outputs": [],
   "source": [
    "df.head()"
   ]
  },
  {
   "cell_type": "code",
   "execution_count": null,
   "metadata": {
    "execution": {
     "iopub.execute_input": "2021-10-04T05:59:57.036901Z",
     "iopub.status.busy": "2021-10-04T05:59:57.036633Z",
     "iopub.status.idle": "2021-10-04T05:59:57.041184Z",
     "shell.execute_reply": "2021-10-04T05:59:57.040121Z",
     "shell.execute_reply.started": "2021-10-04T05:59:57.036874Z"
    }
   },
   "outputs": [],
   "source": [
    "y = df[\"target\"]"
   ]
  },
  {
   "cell_type": "code",
   "execution_count": null,
   "metadata": {
    "execution": {
     "iopub.execute_input": "2021-10-04T05:59:57.843174Z",
     "iopub.status.busy": "2021-10-04T05:59:57.842824Z",
     "iopub.status.idle": "2021-10-04T05:59:57.849255Z",
     "shell.execute_reply": "2021-10-04T05:59:57.847991Z",
     "shell.execute_reply.started": "2021-10-04T05:59:57.843142Z"
    }
   },
   "outputs": [],
   "source": [
    "data = df.drop([\"target\"],axis=1)"
   ]
  },
  {
   "cell_type": "code",
   "execution_count": null,
   "metadata": {
    "execution": {
     "iopub.execute_input": "2021-10-04T05:59:58.665208Z",
     "iopub.status.busy": "2021-10-04T05:59:58.664940Z",
     "iopub.status.idle": "2021-10-04T05:59:58.671826Z",
     "shell.execute_reply": "2021-10-04T05:59:58.670995Z",
     "shell.execute_reply.started": "2021-10-04T05:59:58.665180Z"
    }
   },
   "outputs": [],
   "source": [
    "data.values[0]"
   ]
  },
  {
   "cell_type": "code",
   "execution_count": null,
   "metadata": {
    "execution": {
     "iopub.execute_input": "2021-10-04T05:59:59.394256Z",
     "iopub.status.busy": "2021-10-04T05:59:59.393923Z",
     "iopub.status.idle": "2021-10-04T05:59:59.402971Z",
     "shell.execute_reply": "2021-10-04T05:59:59.402164Z",
     "shell.execute_reply.started": "2021-10-04T05:59:59.394222Z"
    }
   },
   "outputs": [],
   "source": [
    "y"
   ]
  },
  {
   "cell_type": "code",
   "execution_count": null,
   "metadata": {
    "execution": {
     "iopub.execute_input": "2021-10-04T06:00:00.311359Z",
     "iopub.status.busy": "2021-10-04T06:00:00.311054Z",
     "iopub.status.idle": "2021-10-04T06:00:00.324112Z",
     "shell.execute_reply": "2021-10-04T06:00:00.323111Z",
     "shell.execute_reply.started": "2021-10-04T06:00:00.311328Z"
    }
   },
   "outputs": [],
   "source": [
    "from sklearn.preprocessing import StandardScaler\n",
    "\n",
    "scaler = StandardScaler()\n",
    "\n",
    "scaler.fit(data)\n"
   ]
  },
  {
   "cell_type": "code",
   "execution_count": null,
   "metadata": {},
   "outputs": [],
   "source": [
    "import pickle\n",
    "with open('standardscaler.pkl', 'wb') as handle:\n",
    "    pickle.dump(scaler, handle)"
   ]
  },
  {
   "cell_type": "code",
   "execution_count": null,
   "metadata": {
    "execution": {
     "iopub.execute_input": "2021-10-04T06:00:04.552673Z",
     "iopub.status.busy": "2021-10-04T06:00:04.552334Z",
     "iopub.status.idle": "2021-10-04T06:00:04.560451Z",
     "shell.execute_reply": "2021-10-04T06:00:04.559071Z",
     "shell.execute_reply.started": "2021-10-04T06:00:04.552638Z"
    }
   },
   "outputs": [],
   "source": [
    "X = scaler.transform(data)"
   ]
  },
  {
   "cell_type": "code",
   "execution_count": null,
   "metadata": {},
   "outputs": [],
   "source": [
    "tmp = df.drop([\"target\"],axis =1)\n",
    "df3 = pd.DataFrame(X,columns = tmp.columns)\n",
    "df1_transposed =  df3.describe().T"
   ]
  },
  {
   "cell_type": "code",
   "execution_count": null,
   "metadata": {},
   "outputs": [],
   "source": [
    "df1_transposed"
   ]
  },
  {
   "cell_type": "code",
   "execution_count": null,
   "metadata": {},
   "outputs": [],
   "source": [
    "X.shape"
   ]
  },
  {
   "cell_type": "code",
   "execution_count": null,
   "metadata": {},
   "outputs": [],
   "source": [
    "from sklearn.decomposition import PCA\n",
    "pca = PCA(n_components=2)\n",
    "pca.fit(X)\n",
    "\n",
    "x_tr = pca.transform(X)"
   ]
  },
  {
   "cell_type": "code",
   "execution_count": null,
   "metadata": {},
   "outputs": [],
   "source": [
    "dft = pd.DataFrame()"
   ]
  },
  {
   "cell_type": "code",
   "execution_count": null,
   "metadata": {},
   "outputs": [],
   "source": [
    "dft[0] = x_tr[:,0]\n",
    "dft[1] = x_tr[:,1]"
   ]
  },
  {
   "cell_type": "code",
   "execution_count": null,
   "metadata": {},
   "outputs": [],
   "source": [
    "dft[\"y\"] = y"
   ]
  },
  {
   "cell_type": "code",
   "execution_count": null,
   "metadata": {},
   "outputs": [],
   "source": [
    "dft"
   ]
  },
  {
   "cell_type": "code",
   "execution_count": null,
   "metadata": {},
   "outputs": [],
   "source": [
    "plt.scatter(dft[dft[\"y\"]==0][0],dft[dft[\"y\"]==0][1],c='r')\n",
    "plt.scatter(dft[dft[\"y\"]==1][0],dft[dft[\"y\"]==1][1],c='g')\n",
    "plt.show()"
   ]
  },
  {
   "cell_type": "code",
   "execution_count": null,
   "metadata": {
    "execution": {
     "iopub.execute_input": "2021-10-04T06:00:27.979898Z",
     "iopub.status.busy": "2021-10-04T06:00:27.979558Z",
     "iopub.status.idle": "2021-10-04T06:00:27.991770Z",
     "shell.execute_reply": "2021-10-04T06:00:27.990613Z",
     "shell.execute_reply.started": "2021-10-04T06:00:27.979864Z"
    }
   },
   "outputs": [],
   "source": [
    "X_train, X_test, y_train, y_test = train_test_split(X, y, test_size = 0.2, random_state=42)\n",
    "X_train.shape, X_test.shape, y_train.shape, y_test.shape"
   ]
  },
  {
   "cell_type": "code",
   "execution_count": null,
   "metadata": {},
   "outputs": [],
   "source": [
    "from sklearn.metrics import roc_auc_score"
   ]
  },
  {
   "cell_type": "markdown",
   "metadata": {},
   "source": [
    "# LOGISTIC REGRESSION"
   ]
  },
  {
   "cell_type": "code",
   "execution_count": null,
   "metadata": {},
   "outputs": [],
   "source": [
    "from sklearn.model_selection import GridSearchCV\n",
    "from matplotlib import pyplot\n",
    "from sklearn.metrics import roc_curve\n",
    "from sklearn.metrics import accuracy_score\n",
    "from sklearn.metrics import plot_confusion_matrix\n",
    "param_grid={'C': [0.1,0.5,1],\"max_iter\":[100,150,200]}\n",
    "\n",
    "for k in [3,4,5] :\n",
    "    print(\"################################  K :\" ,k ,\"###########################\")\n",
    "    \n",
    "    clf = LogisticRegression(random_state=1)\n",
    "    grid = GridSearchCV(clf, param_grid, cv=k, scoring='accuracy')\n",
    "    grid.fit(X_train,y_train)\n",
    "    print(grid.best_params_)\n",
    "    \n",
    "#     print(\"Accuracy:\"+ str(grid.best_score_))\n",
    "\n",
    "    d = grid.best_params_\n",
    "    c = d[\"C\"]\n",
    "    it  = d[\"max_iter\"]\n",
    "    clf1=LogisticRegression(random_state=1,max_iter = it, C= c)\n",
    "    clf1.fit(X_train,y_train)\n",
    "    y_pred = clf1.predict(X_test) \n",
    "    \n",
    "    print(\"Train Accuracy score :\" ,accuracy_score(y_train,clf1.predict(X_train)))\n",
    "    \n",
    "    print(\"Test Accuracy score :\" ,accuracy_score(y_test, y_pred))\n",
    "    plot_confusion_matrix(clf1, X_test, y_test) \n",
    "    \n",
    "    plt.show()\n",
    "    \n",
    "    yhat_proba = clf1.predict_proba(X_test)[:,1]\n",
    "\n",
    "    print(\"classificatioon report\")\n",
    "    print(classification_report(y_pred, y_test))\n",
    "    ns_probs = [0 for _ in range(len(y_test))]\n",
    "    auc = roc_auc_score(y_test,yhat_proba)\n",
    "    print(\"auc score\",auc)\n",
    "    ns_fpr, ns_tpr, _ = roc_curve(y_test, ns_probs)\n",
    "    an_fpr, an_tpr, _ = roc_curve(y_test, yhat_proba)\n",
    "    # plot the roc curve for the model\n",
    "    pyplot.plot(ns_fpr, ns_tpr, linestyle='--', label='No Skill')\n",
    "    pyplot.plot(an_fpr, an_tpr,linestyle='--', label='LOGISTIC REGRESSION')\n",
    "    pyplot.xlabel('False Positive Rate')\n",
    "    pyplot.ylabel('True Positive Rate')\n",
    "    # show the legend\n",
    "    pyplot.legend()\n",
    "\n",
    "    pyplot.show()"
   ]
  },
  {
   "cell_type": "markdown",
   "metadata": {},
   "source": [
    "# DECISION TREE"
   ]
  },
  {
   "cell_type": "code",
   "execution_count": null,
   "metadata": {},
   "outputs": [],
   "source": [
    "from sklearn.model_selection import GridSearchCV\n",
    "from matplotlib import pyplot\n",
    "from sklearn.metrics import roc_curve\n",
    "from sklearn.metrics import accuracy_score\n",
    "\n",
    "\n",
    "for k in [3,4,5] :\n",
    "    print(\"################################  K :\" ,k ,\"###########################\")\n",
    "    param_grid={\n",
    "      'max_depth':[3, 5, None],\n",
    "      'min_samples_split':[1.0,2],}\n",
    "\n",
    "    clf = DecisionTreeClassifier()\n",
    "    grid = GridSearchCV(clf, param_grid, cv=k, scoring='accuracy')\n",
    "    grid.fit(X_train,y_train)\n",
    "    print(grid.best_params_)\n",
    "#     print(\"Accuracy:\"+ str(grid.best_score_))\n",
    "    d = grid.best_params_\n",
    "    a = d[\"max_depth\"]\n",
    "    b  = d[\"min_samples_split\"]\n",
    "    clf1 =  DecisionTreeClassifier(max_depth= a, min_samples_split= b)\n",
    "    clf1.fit(X_train,y_train)\n",
    "    y_pred = clf1.predict(X_test) \n",
    "    print(\"Train Accuracy score :\" ,accuracy_score(y_train,clf1.predict(X_train)))\n",
    "    print(\"Test Accuracy score :\" ,accuracy_score(y_test, y_pred))\n",
    "    plot_confusion_matrix(clf1, X_test, y_test)  \n",
    "    plt.show()\n",
    "    \n",
    "    yhat_proba = clf1.predict_proba(X_test)[:,1]\n",
    "\n",
    "    print(\"classificatioon report\")\n",
    "    print(classification_report(y_pred, y_test))\n",
    "    ns_probs = [0 for _ in range(len(y_test))]\n",
    "    auc = roc_auc_score(y_test,yhat_proba)\n",
    "    print(\"auc score\",auc)\n",
    "    ns_fpr, ns_tpr, _ = roc_curve(y_test, ns_probs)\n",
    "    an_fpr, an_tpr, _ = roc_curve(y_test, yhat_proba)\n",
    "    # plot the roc curve for the model\n",
    "    pyplot.plot(ns_fpr, ns_tpr, linestyle='--', label='No Skill')\n",
    "    pyplot.plot(an_fpr, an_tpr,linestyle='--', label='DECISION TREE')\n",
    "    pyplot.xlabel('False Positive Rate')\n",
    "    pyplot.ylabel('True Positive Rate')\n",
    "    # show the legend\n",
    "    pyplot.legend()\n",
    "\n",
    "    pyplot.show()"
   ]
  },
  {
   "cell_type": "markdown",
   "metadata": {},
   "source": [
    "# Random forest classifier"
   ]
  },
  {
   "cell_type": "code",
   "execution_count": null,
   "metadata": {},
   "outputs": [],
   "source": [
    "from sklearn.model_selection import GridSearchCV\n",
    "from matplotlib import pyplot\n",
    "from sklearn.metrics import roc_curve\n",
    "from sklearn.metrics import accuracy_score\n",
    "\n",
    "\n",
    "for k in [3,4,5] :\n",
    "    print(\"################################  K :\" ,k ,\"###########################\")\n",
    "    \n",
    "    rf_params = {\n",
    "    'n_estimators': [10, 20, 30,100],\n",
    "\n",
    "    'max_depth': [15,20,30,50,None],\n",
    "    \n",
    "    \"criterion\":['gini','entropy']\n",
    "    }\n",
    "    \n",
    "    clf = RandomForestClassifier(random_state=0)\n",
    "    grid = GridSearchCV(clf, rf_params, cv=3, scoring='accuracy')\n",
    "    grid.fit(X_train,y_train)\n",
    "    print(grid.best_params_)\n",
    "#     print(\"Accuracy:\"+ str(grid.best_score_))\n",
    "    d = grid.best_params_\n",
    "    a = d[\"n_estimators\"]\n",
    "    b  = d[\"max_depth\"]\n",
    "    c = d[\"criterion\"]\n",
    "    clf1 =  RandomForestClassifier(criterion = c, max_depth = b, n_estimators =a)\n",
    "    clf1.fit(X_train,y_train)\n",
    "    y_pred = clf1.predict(X_test) \n",
    "    print(\"Train Accuracy score :\" ,accuracy_score(y_train,clf1.predict(X_train)))\n",
    "    print(\"Test Accuracy score :\" ,accuracy_score(y_test, y_pred))\n",
    "    plot_confusion_matrix(clf1, X_test, y_test)  \n",
    "    plt.show()\n",
    "    \n",
    "    yhat_proba = clf1.predict_proba(X_test)[:,1]\n",
    "\n",
    "    print(\"classificatioon report\")\n",
    "    print(classification_report(y_pred, y_test))\n",
    "    ns_probs = [0 for _ in range(len(y_test))]\n",
    "    auc = roc_auc_score(y_test,yhat_proba)\n",
    "    print(\"auc score\",auc)\n",
    "    ns_fpr, ns_tpr, _ = roc_curve(y_test, ns_probs)\n",
    "    an_fpr, an_tpr, _ = roc_curve(y_test, yhat_proba)\n",
    "    # plot the roc curve for the model\n",
    "    pyplot.plot(ns_fpr, ns_tpr, linestyle='--', label='No Skill')\n",
    "    pyplot.plot(an_fpr, an_tpr,linestyle='--', label='RANDOM FOREST CLASSIFIER')\n",
    "    pyplot.xlabel('False Positive Rate')\n",
    "    pyplot.ylabel('True Positive Rate')\n",
    "    # show the legend\n",
    "    pyplot.legend()\n",
    "\n",
    "    pyplot.show()"
   ]
  },
  {
   "cell_type": "code",
   "execution_count": null,
   "metadata": {},
   "outputs": [],
   "source": [
    "import pickle\n",
    "with open('classifier.pkl', 'wb') as handle:\n",
    "    pickle.dump(clf1, handle)"
   ]
  },
  {
   "cell_type": "markdown",
   "metadata": {},
   "source": [
    "# KNN"
   ]
  },
  {
   "cell_type": "code",
   "execution_count": null,
   "metadata": {},
   "outputs": [],
   "source": [
    "from sklearn.model_selection import GridSearchCV\n",
    "from matplotlib import pyplot\n",
    "from sklearn.metrics import roc_curve\n",
    "from sklearn.metrics import accuracy_score\n",
    "\n",
    "\n",
    "for k in [3,4,5] :\n",
    "    print(\"################################  K :\" ,k ,\"###########################\")\n",
    "    \n",
    "    params = {\n",
    "    \"n_neighbors\" :[3,4,5,6]\n",
    "    }\n",
    "    clf=KNeighborsClassifier()\n",
    "   \n",
    "    grid = GridSearchCV(clf, params, cv=k, scoring='accuracy')\n",
    "    grid.fit(X_train,y_train)\n",
    "    print(grid.best_params_)\n",
    "#     print(\"Accuracy:\"+ str(grid.best_score_))\n",
    "    d = grid.best_params_\n",
    "    a = d[\"n_neighbors\"]\n",
    "    \n",
    "    clf1 =  KNeighborsClassifier(n_neighbors=a)\n",
    "    clf1.fit(X_train,y_train)\n",
    "    y_pred = clf1.predict(X_test) \n",
    "    print(\"Train Accuracy score :\" ,accuracy_score(y_train,clf1.predict(X_train)))\n",
    "    print(\"Test Accuracy score :\" ,accuracy_score(y_test, y_pred))\n",
    "    plot_confusion_matrix(clf1, X_test, y_test)  \n",
    "    plt.show()\n",
    "    \n",
    "    yhat_proba = clf1.predict_proba(X_test)[:,1]\n",
    "\n",
    "    print(\"classificatioon report\")\n",
    "    print(classification_report(y_pred, y_test))\n",
    "    ns_probs = [0 for _ in range(len(y_test))]\n",
    "    auc = roc_auc_score(y_test,yhat_proba)\n",
    "    print(\"auc score\",auc)\n",
    "    ns_fpr, ns_tpr, _ = roc_curve(y_test, ns_probs)\n",
    "    an_fpr, an_tpr, _ = roc_curve(y_test, yhat_proba)\n",
    "    # plot the roc curve for the model\n",
    "    pyplot.plot(ns_fpr, ns_tpr, linestyle='--', label='No Skill')\n",
    "    pyplot.plot(an_fpr, an_tpr,linestyle='--', label='KNN')\n",
    "    pyplot.xlabel('False Positive Rate')\n",
    "    pyplot.ylabel('True Positive Rate')\n",
    "    # show the legend\n",
    "    pyplot.legend()\n",
    "\n",
    "    pyplot.show()"
   ]
  },
  {
   "cell_type": "markdown",
   "metadata": {},
   "source": [
    "### Deployment"
   ]
  },
  {
   "cell_type": "code",
   "execution_count": null,
   "metadata": {},
   "outputs": [],
   "source": [
    "clf1 =  KNeighborsClassifier(n_neighbors=5)\n",
    "clf1.fit(X_train,y_train)\n",
    "y_pred = clf1.predict(X_test) \n",
    "print(\"Train Accuracy score :\" ,accuracy_score(y_train,clf1.predict(X_train)))\n",
    "print(\"Test Accuracy score :\" ,accuracy_score(y_test, y_pred))"
   ]
  },
  {
   "cell_type": "code",
   "execution_count": null,
   "metadata": {},
   "outputs": [],
   "source": [
    "# import pickle\n",
    "# with open('knnclassifier.pkl', 'wb') as handle:\n",
    "#     pickle.dump(clf1, handle)"
   ]
  },
  {
   "cell_type": "markdown",
   "metadata": {},
   "source": [
    "## SVM"
   ]
  },
  {
   "cell_type": "code",
   "execution_count": null,
   "metadata": {},
   "outputs": [],
   "source": [
    "from sklearn.model_selection import GridSearchCV\n",
    "from matplotlib import pyplot\n",
    "from sklearn.metrics import roc_curve\n",
    "from sklearn.metrics import accuracy_score\n",
    "from sklearn.svm import SVC\n",
    "\n",
    "\n",
    "for k in [3,4,5] :\n",
    "    print(\"################################  K :\" ,k ,\"###########################\")\n",
    "    \n",
    "    params = {\n",
    "    \"kernel\":[\"linear\", \"poly\", \"rbf\"]\n",
    "    }\n",
    "    clf=SVC()\n",
    "   \n",
    "    grid = GridSearchCV(clf, params, cv=k, scoring='accuracy')\n",
    "    grid.fit(X_train,y_train)\n",
    "    print(grid.best_params_)\n",
    "#     print(\"Accuracy:\"+ str(grid.best_score_))\n",
    "    d = grid.best_params_\n",
    "    a = d[\"kernel\"]\n",
    "    \n",
    "    clf1 =  SVC(kernel=a,probability=True)\n",
    "    clf1.fit(X_train,y_train)\n",
    "    y_pred = clf1.predict(X_test) \n",
    "    print(\"Train Accuracy score :\" ,accuracy_score(y_train,clf1.predict(X_train)))\n",
    "    print(\"Test Accuracy score :\" ,accuracy_score(y_test, y_pred))\n",
    "    plot_confusion_matrix(clf1, X_test, y_test)  \n",
    "    plt.show()\n",
    "    \n",
    "    yhat_proba = clf1.predict_proba(X_test)[:,1]\n",
    "\n",
    "    print(\"classificatioon report\")\n",
    "    print(classification_report(y_pred, y_test))\n",
    "    ns_probs = [0 for _ in range(len(y_test))]\n",
    "    auc = roc_auc_score(y_test,yhat_proba)\n",
    "    print(\"auc score\",auc)\n",
    "    ns_fpr, ns_tpr, _ = roc_curve(y_test, ns_probs)\n",
    "    an_fpr, an_tpr, _ = roc_curve(y_test, yhat_proba)\n",
    "    # plot the roc curve for the model\n",
    "    pyplot.plot(ns_fpr, ns_tpr, linestyle='--', label='No Skill')\n",
    "    pyplot.plot(an_fpr, an_tpr,linestyle='--', label='SVM')\n",
    "    pyplot.xlabel('False Positive Rate')\n",
    "    pyplot.ylabel('True Positive Rate')\n",
    "    # show the legend\n",
    "    pyplot.legend()\n",
    "\n",
    "    pyplot.show()"
   ]
  },
  {
   "cell_type": "markdown",
   "metadata": {},
   "source": [
    "## Naive Bayes"
   ]
  },
  {
   "cell_type": "code",
   "execution_count": null,
   "metadata": {},
   "outputs": [],
   "source": [
    "X = df.drop([\"target\"],axis=1)\n",
    "y = df[\"target\"]"
   ]
  },
  {
   "cell_type": "code",
   "execution_count": null,
   "metadata": {},
   "outputs": [],
   "source": [
    "X_train, X_test, y_train, y_test = train_test_split(X, y, test_size = 0.2, random_state=42)\n",
    "X_train.shape, X_test.shape, y_train.shape, y_test.shape"
   ]
  },
  {
   "cell_type": "code",
   "execution_count": null,
   "metadata": {},
   "outputs": [],
   "source": [
    "from sklearn.model_selection import GridSearchCV\n",
    "from matplotlib import pyplot\n",
    "from sklearn.metrics import roc_curve\n",
    "from sklearn.metrics import accuracy_score\n",
    "from sklearn.naive_bayes import MultinomialNB\n",
    "\n",
    "\n",
    "for k in [3,4,5] :\n",
    "    print(\"################################  K :\" ,k ,\"###########################\")\n",
    "    \n",
    "    clf1 =  MultinomialNB()\n",
    "    clf1.fit(X_train,y_train)\n",
    "    y_pred = clf1.predict(X_test) \n",
    "    print(\"Train Accuracy score :\" ,accuracy_score(y_train,clf1.predict(X_train)))\n",
    "    print(\"Test Accuracy score :\" ,accuracy_score(y_test, y_pred))\n",
    "    plot_confusion_matrix(clf1, X_test, y_test)  \n",
    "    plt.show()\n",
    "    \n",
    "    yhat_proba = clf1.predict_proba(X_test)[:,1]\n",
    "\n",
    "    print(\"classificatioon report\")\n",
    "    print(classification_report(y_pred, y_test))\n",
    "    ns_probs = [0 for _ in range(len(y_test))]\n",
    "    auc = roc_auc_score(y_test,yhat_proba)\n",
    "    print(\"auc score\",auc)\n",
    "    ns_fpr, ns_tpr, _ = roc_curve(y_test, ns_probs)\n",
    "    an_fpr, an_tpr, _ = roc_curve(y_test, yhat_proba)\n",
    "    # plot the roc curve for the model\n",
    "    pyplot.plot(ns_fpr, ns_tpr, linestyle='--', label='No Skill')\n",
    "    pyplot.plot(an_fpr, an_tpr,linestyle='--', label='Naive Bayes')\n",
    "    pyplot.xlabel('False Positive Rate')\n",
    "    pyplot.ylabel('True Positive Rate')\n",
    "    # show the legend\n",
    "    pyplot.legend()\n",
    "\n",
    "    pyplot.show()"
   ]
  },
  {
   "cell_type": "code",
   "execution_count": null,
   "metadata": {},
   "outputs": [],
   "source": []
  },
  {
   "cell_type": "code",
   "execution_count": null,
   "metadata": {},
   "outputs": [],
   "source": []
  },
  {
   "cell_type": "code",
   "execution_count": null,
   "metadata": {},
   "outputs": [],
   "source": []
  },
  {
   "cell_type": "code",
   "execution_count": null,
   "metadata": {},
   "outputs": [],
   "source": []
  }
 ],
 "metadata": {
  "kernelspec": {
   "display_name": "Python 3",
   "language": "python",
   "name": "python3"
  },
  "language_info": {
   "codemirror_mode": {
    "name": "ipython",
    "version": 3
   },
   "file_extension": ".py",
   "mimetype": "text/x-python",
   "name": "python",
   "nbconvert_exporter": "python",
   "pygments_lexer": "ipython3",
   "version": "3.8.8"
  }
 },
 "nbformat": 4,
 "nbformat_minor": 4
}
